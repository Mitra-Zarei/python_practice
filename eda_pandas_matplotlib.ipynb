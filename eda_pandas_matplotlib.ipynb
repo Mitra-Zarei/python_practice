# Import necessary libraries
import pandas as pd
import matplotlib.pyplot as plt

# Load datasets
df = pd.read_csv('train.csv')

df.head(20)

# Range analyst
Range_analysis = df.describe().loc[['min', 'max',]]
Range_analysis

# Sort the data by 'Age' column in ascending order
df_age = df.sort_values(by='Age', ascending=True)

# Display the sorted dataframe
df_age.head(10)

analysis =  df.describe() 
analysis

# Range analysis
range_analysis = df.max(numeric_only=True) - df.min(numeric_only=True)
print("Range Analysis:")
print(range_analysis)

# Plotting the range analysis*
range_analysis.plot(kind='bar', title='Range Analysis', figsize=(8, 2))
plt.ylabel('amount')
plt.show()

# Sparseness analysis
sparseness = df.isna().mean()
print("Sparseness (Proportion of Missing Values):")
print(sparseness)

# Plotting the sparseness
sparseness.plot(kind='bar', title='Sparseness Analysis', figsize=(10, 6))
plt.ylabel('Sparseness')
plt.show()

uniqueness = df.nunique()
uniqueness.plot(kind='bar', figsize=(12, 6))
plt.title('Uniqueness')
plt.xlabel('Features')
plt.ylabel('Unique Values')
plt.show()

# Value distribution analysis
df.hist(bins=30, figsize=(15, 10), grid=False)
plt.suptitle('Value Distribution Analysis')
plt.show()

# Value absence analysis
value_absence = df.isna().sum()
print("Value Absence (Missing Values Count):")
print(value_absence)

# Plotting value absence
value_absence.plot(kind='bar', title='Value Absence Analysis', figsize=(10, 6))
plt.ylabel('Missing Values Count')
plt.show()

# Minimum value analysis
min_values = df.min(numeric_only=True)
print("Minimum Values:")
print(min_values)

# Plotting the minimum values
min_values.plot(kind='bar', title='Minimum Values Analysis', figsize=(10, 6))
plt.ylabel('Minimum Value')
plt.show()

maximum_values = df.max(numeric_only=True)
maximum_values.plot(kind='bar', figsize=(12, 6))
plt.title('Maximum Values')
plt.xlabel('Features')
plt.ylabel('Maximum Value')
plt.show()

mean_values = df.mean(numeric_only=True)
mean_values.plot(kind='bar', figsize=(12, 6))
plt.title('Mean Values')
plt.xlabel('Features')
plt.ylabel('Mean Value')
plt.show()

median_values = df.median(numeric_only=True)
median_values.plot(kind='bar', figsize=(12, 6))
plt.title('Median Values')
plt.xlabel('Features')
plt.ylabel('Median Value')
plt.show()

std_deviation = df.std(numeric_only=True)
std_deviation.plot(kind='bar', figsize=(12, 6))
plt.title('Standard Deviation')
plt.xlabel('Features')
plt.ylabel('Standard Deviation')
plt.show()

data_types = df.dtypes
data_types.value_counts().plot(kind='bar', figsize=(12, 6))
plt.title('Data Types')
plt.xlabel('Data Type')
plt.ylabel('Count')
plt.show()

abstract_type_recognition = df.head()
print("Dataset (first 5 rows):")
print(abstract_type_recognition)

# Function to check consistent decimal places
def check_decimal_places(series, decimal_places):
    inconsistent_decimals = series.apply(lambda x: len(str(x).split('.')[-1]) if pd.notnull(x) else 0)
    return inconsistent_decimals[inconsistent_decimals != decimal_places]

# Checking decimal places for Age and Fare
age_decimal_check = check_decimal_places(df['Age'], 1)
fare_decimal_check = check_decimal_places(df['Fare'], 4)

# Check for leading/trailing whitespace in categorical columns
embarked_whitespace_check = df['Embarked'].str.contains(r'^\s+|\s+$', na=False)

# Results
age_decimal_check, fare_decimal_check, embarked_whitespace_check.any()

# Count the number of NaN values in the Age column
nan_count_age = df['Age'].isna().sum()
nan_count_age
